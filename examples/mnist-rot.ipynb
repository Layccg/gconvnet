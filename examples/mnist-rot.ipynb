{
 "cells": [
  {
   "cell_type": "code",
   "execution_count": 1,
   "metadata": {},
   "outputs": [
    {
     "name": "stdout",
     "output_type": "stream",
     "text": [
      "/home/rasmusj/code\n"
     ]
    }
   ],
   "source": [
    "%cd ../.."
   ]
  },
  {
   "cell_type": "code",
   "execution_count": 2,
   "metadata": {},
   "outputs": [],
   "source": [
    "import sys\n",
    "import random\n",
    "\n",
    "import numpy as np\n",
    "import tensorflow as tf\n",
    "import tensorflow.keras as keras\n",
    "import matplotlib.pyplot as plt\n",
    "import matplotlib\n",
    "import tensorflow.train\n",
    "from tensorflow.keras import layers\n",
    "from gconvnet import GConv2D, GMaxPool\n",
    "import gconvnet.groups as groups"
   ]
  },
  {
   "cell_type": "code",
   "execution_count": 3,
   "metadata": {},
   "outputs": [
    {
     "name": "stdout",
     "output_type": "stream",
     "text": [
      "Tensorflow version: 1.14.0\n",
      "Keras      version: 2.2.4-tf\n",
      "Numpy version:      1.16.4\n",
      "Matplotlib version: 3.1.0\n",
      "Python version:     3.7.3 (default, Mar 27 2019, 22:11:17) \n",
      "[GCC 7.3.0]\n"
     ]
    }
   ],
   "source": [
    "print('Tensorflow version: {}'.format(tf.__version__))\n",
    "print('Keras      version: {}'.format(tf.keras.__version__))\n",
    "print('Numpy version:      {}'.format(np.__version__))\n",
    "print('Matplotlib version: {}'.format(matplotlib.__version__))\n",
    "print('Python version:     {}'.format(sys.version))"
   ]
  },
  {
   "cell_type": "markdown",
   "metadata": {},
   "source": [
    "We now load the MNIST data. It is organized as follows:\n",
    "* Each samples is represented as 785 scalars. The first 24*24=784 are the pixel values. The last is the label.\n",
    "* mnist_train.amat contains 12,000 samples. The first 10,000 are training samples, the last 2000 are validation samples.\n",
    "* mnist_test.amat contains 50,000 test samples."
   ]
  },
  {
   "cell_type": "code",
   "execution_count": 4,
   "metadata": {},
   "outputs": [],
   "source": [
    "train_n = 10000 \n",
    "val_n = 2000\n",
    "test_n = 50000\n",
    "sample_width = 28\n",
    "sample_height = 28"
   ]
  },
  {
   "cell_type": "code",
   "execution_count": 5,
   "metadata": {},
   "outputs": [],
   "source": [
    "raw_train_val_data = np.loadtxt('gconvnet/examples/mnist_all_rotation_normalized_float_train_valid.amat')\n",
    "raw_test_data = np.loadtxt('gconvnet/examples/mnist_all_rotation_normalized_float_test.amat')"
   ]
  },
  {
   "cell_type": "code",
   "execution_count": 6,
   "metadata": {},
   "outputs": [],
   "source": [
    "assert raw_train_val_data.shape[0] == train_n + val_n, \\\n",
    "       'mnist_train.amat had unexpected number of samples'\n",
    "assert raw_test_data.shape[0] == test_n, \\\n",
    "       'mnist_test.amat had unexpected number of samples'\n",
    "\n",
    "assert raw_train_val_data.shape[1] == sample_width*sample_height + 1, \\\n",
    "    \"mnist_train.amat samples have wrong size, expected {0} got {1}\".format(\n",
    "           sample_width*sample_height+1, raw_train_val_data.shape[1])\n",
    "assert raw_test_data.shape[1] == sample_width*sample_height + 1, \\\n",
    "    \"mnist_test.amat samples have wrong size, expected {0} got {1}\".format(\n",
    "           sample_width*sample_height+1, raw_test_data.shape[1])\n",
    "\n",
    "train_x = raw_train_val_data[:train_n,:-1].reshape(train_n,sample_width,sample_height,1,1)\n",
    "train_y = raw_train_val_data[:train_n,-1]\n",
    "\n",
    "val_x = raw_train_val_data[train_n:,:-1].reshape(val_n,sample_width,sample_height,1,1)\n",
    "val_y = raw_train_val_data[train_n:,-1]\n",
    "\n",
    "test_x = raw_test_data[:,:-1].reshape(test_n,sample_width,sample_height,1,1)\n",
    "test_y = raw_test_data[:,-1]\n",
    "\n",
    "train_data = {\n",
    "    'x' : train_x,\n",
    "    'y' : train_y,\n",
    "    'y_cat' : tf.keras.utils.to_categorical(train_y,10),\n",
    "    'name' : 'train',\n",
    "    'n' : train_n}\n",
    "test_data = {\n",
    "    'x' : test_x,\n",
    "    'y' : test_y,\n",
    "    'y_cat' : tf.keras.utils.to_categorical(test_y,10),\n",
    "    'name' : 'test',\n",
    "    'n' : test_n}\n",
    "val_data = {\n",
    "    'x' : val_x,\n",
    "    'y' : val_y,\n",
    "    'y_cat' : tf.keras.utils.to_categorical(val_y,10),\n",
    "    'name' : 'validation',\n",
    "    'n' : val_n}"
   ]
  },
  {
   "cell_type": "markdown",
   "metadata": {},
   "source": [
    "# Inspection"
   ]
  },
  {
   "cell_type": "code",
   "execution_count": 7,
   "metadata": {},
   "outputs": [
    {
     "name": "stdout",
     "output_type": "stream",
     "text": [
      "Train dataset sample #7859 with label: 3.0\n"
     ]
    },
    {
     "data": {
      "image/png": "[encoded data removed]",
      "text/plain": [
       "<Figure size 432x288 with 1 Axes>"
      ]
     },
     "metadata": {
      "needs_background": "light"
     },
     "output_type": "display_data"
    }
   ],
   "source": [
    "dataset_to_inspect = train_data\n",
    "example_idx = -1 # index of sample to inspect. -1 for random.\n",
    "\n",
    "if example_idx == -1:\n",
    "    example_idx = random.randint(0,dataset_to_inspect['n']-1)\n",
    "\n",
    "assert (example_idx >= 0 and example_idx < dataset_to_inspect['n']-1), \\\n",
    "    'Example index out of bounds'\n",
    "\n",
    "example_x = dataset_to_inspect['x'][example_idx].reshape(sample_width,sample_height)\n",
    "example_y = dataset_to_inspect['y'][example_idx]\n",
    "\n",
    "plt.imshow(example_x)\n",
    "\n",
    "print('{0} dataset sample #{1} with label: {2}'.format(\n",
    "    dataset_to_inspect['name'].capitalize(), example_idx, example_y))"
   ]
  },
  {
   "cell_type": "markdown",
   "metadata": {},
   "source": [
    "# Model"
   ]
  },
  {
   "cell_type": "code",
   "execution_count": 8,
   "metadata": {},
   "outputs": [],
   "source": [
    "subgroup = groups.create_inclusion(groups.c4, [0,2])"
   ]
  },
  {
   "cell_type": "code",
   "execution_count": 9,
   "metadata": {
    "scrolled": true
   },
   "outputs": [
    {
     "name": "stderr",
     "output_type": "stream",
     "text": [
      "WARNING: Logging before flag parsing goes to stderr.\n",
      "W0925 23:29:52.760703 140309191624512 deprecation.py:506] From /home/rasmusj/anaconda3/lib/python3.7/site-packages/tensorflow/python/ops/init_ops.py:1251: calling VarianceScaling.__init__ (from tensorflow.python.ops.init_ops) with dtype is deprecated and will be removed in a future version.\n",
      "Instructions for updating:\n",
      "Call initializer instance with the dtype argument instead of passing it to the constructor\n"
     ]
    },
    {
     "name": "stdout",
     "output_type": "stream",
     "text": [
      "-1 1 1\n",
      "-1 1 1\n",
      "<class 'tensorflow.python.framework.ops.Tensor'>\n",
      "-1 1 1\n",
      "-1 1 1\n",
      "<class 'tensorflow.python.framework.ops.Tensor'>\n",
      "-1 1 1\n",
      "-1 1 1\n",
      "<class 'tensorflow.python.framework.ops.Tensor'>\n",
      "[-1 -1]\n",
      "[ 0 -1]\n",
      "[0 1]\n",
      "[0 1]\n"
     ]
    }
   ],
   "source": [
    "custommodel = keras.Sequential()\n",
    "custommodel.add(GConv2D(30, \n",
    "                        kernel_size=(3,3),\n",
    "                        input_shape=(28,28,1,1),\n",
    "                        G = 'c4',\n",
    "                        G_action = 'rot90',\n",
    "                        activation='relu',\n",
    "                        use_bias = False,\n",
    "                        name='GConv1'))\n",
    "custommodel.add(GConv2D(30,\n",
    "                       kernel_size=(3,3),\n",
    "                       G='c4',\n",
    "                       G_action = 'rot90',\n",
    "                       activation='relu',\n",
    "                       use_bias=False,\n",
    "                       name='GConv2'))\n",
    "custommodel.add(GConv2D(30,\n",
    "                       kernel_size=(3,3),\n",
    "                       G='c4',\n",
    "                       G_action = 'rot90',\n",
    "                       activation='relu',\n",
    "                       use_bias=False,\n",
    "                       name='GConv3'))\n",
    "custommodel.add(GMaxPool(subgroup,\n",
    "                        name='GMaxPool1'))\n",
    "custommodel.add(layers.Flatten())\n",
    "custommodel.add(layers.Dense(10, activation='softmax'))"
   ]
  },
  {
   "cell_type": "code",
   "execution_count": 10,
   "metadata": {},
   "outputs": [
    {
     "name": "stdout",
     "output_type": "stream",
     "text": [
      "Model: \"sequential\"\n",
      "_________________________________________________________________\n",
      "Layer (type)                 Output Shape              Param #   \n",
      "=================================================================\n",
      "GConv1 (GConv2D)             (None, 26, 26, 4, 30)     270       \n",
      "_________________________________________________________________\n",
      "GConv2 (GConv2D)             (None, 24, 24, 4, 30)     32400     \n",
      "_________________________________________________________________\n",
      "GConv3 (GConv2D)             (None, 22, 22, 4, 30)     32400     \n",
      "_________________________________________________________________\n",
      "GMaxPool1 (GMaxPool)         (None, 22, 22, 2, 30)     0         \n",
      "_________________________________________________________________\n",
      "flatten (Flatten)            (None, 29040)             0         \n",
      "_________________________________________________________________\n",
      "dense (Dense)                (None, 10)                290410    \n",
      "=================================================================\n",
      "Total params: 355,480\n",
      "Trainable params: 355,480\n",
      "Non-trainable params: 0\n",
      "_________________________________________________________________\n"
     ]
    }
   ],
   "source": [
    "custommodel.summary()"
   ]
  },
  {
   "cell_type": "code",
   "execution_count": 11,
   "metadata": {},
   "outputs": [],
   "source": [
    "custommodel.compile(\n",
    "    optimizer=tf.train.AdamOptimizer(),\n",
    "    loss='categorical_crossentropy',\n",
    "    metrics=['accuracy'])"
   ]
  },
  {
   "cell_type": "code",
   "execution_count": 12,
   "metadata": {},
   "outputs": [
    {
     "name": "stdout",
     "output_type": "stream",
     "text": [
      "Epoch 1/10\n",
      "10000/10000 [==============================] - 5s 467us/sample - loss: 1.1563 - acc: 0.6041\n",
      "Epoch 2/10\n",
      "10000/10000 [==============================] - 3s 347us/sample - loss: 0.5274 - acc: 0.8284\n",
      "Epoch 3/10\n",
      "10000/10000 [==============================] - 3s 349us/sample - loss: 0.3561 - acc: 0.8876\n",
      "Epoch 4/10\n",
      "10000/10000 [==============================] - 3s 346us/sample - loss: 0.2422 - acc: 0.9217\n",
      "Epoch 5/10\n",
      " 1920/10000 [====>.........................] - ETA: 2s - loss: 0.1533 - acc: 0.9526"
     ]
    },
    {
     "ename": "KeyboardInterrupt",
     "evalue": "",
     "output_type": "error",
     "traceback": [
      "\u001b[0;31m---------------------------------------------------------------------------\u001b[0m",
      "\u001b[0;31mKeyboardInterrupt\u001b[0m                         Traceback (most recent call last)",
      "\u001b[0;32m<ipython-input-12-d01906ffbe91>\u001b[0m in \u001b[0;36m<module>\u001b[0;34m\u001b[0m\n\u001b[1;32m      3\u001b[0m     \u001b[0mtrain_data\u001b[0m\u001b[0;34m[\u001b[0m\u001b[0;34m'y_cat'\u001b[0m\u001b[0;34m]\u001b[0m\u001b[0;34m,\u001b[0m\u001b[0;34m\u001b[0m\u001b[0;34m\u001b[0m\u001b[0m\n\u001b[1;32m      4\u001b[0m     \u001b[0mbatch_size\u001b[0m\u001b[0;34m=\u001b[0m\u001b[0;36m128\u001b[0m\u001b[0;34m,\u001b[0m\u001b[0;34m\u001b[0m\u001b[0;34m\u001b[0m\u001b[0m\n\u001b[0;32m----> 5\u001b[0;31m     epochs=10)\n\u001b[0m",
      "\u001b[0;32m~/anaconda3/lib/python3.7/site-packages/tensorflow/python/keras/engine/training.py\u001b[0m in \u001b[0;36mfit\u001b[0;34m(self, x, y, batch_size, epochs, verbose, callbacks, validation_split, validation_data, shuffle, class_weight, sample_weight, initial_epoch, steps_per_epoch, validation_steps, validation_freq, max_queue_size, workers, use_multiprocessing, **kwargs)\u001b[0m\n\u001b[1;32m    778\u001b[0m           \u001b[0mvalidation_steps\u001b[0m\u001b[0;34m=\u001b[0m\u001b[0mvalidation_steps\u001b[0m\u001b[0;34m,\u001b[0m\u001b[0;34m\u001b[0m\u001b[0;34m\u001b[0m\u001b[0m\n\u001b[1;32m    779\u001b[0m           \u001b[0mvalidation_freq\u001b[0m\u001b[0;34m=\u001b[0m\u001b[0mvalidation_freq\u001b[0m\u001b[0;34m,\u001b[0m\u001b[0;34m\u001b[0m\u001b[0;34m\u001b[0m\u001b[0m\n\u001b[0;32m--> 780\u001b[0;31m           steps_name='steps_per_epoch')\n\u001b[0m\u001b[1;32m    781\u001b[0m \u001b[0;34m\u001b[0m\u001b[0m\n\u001b[1;32m    782\u001b[0m   def evaluate(self,\n",
      "\u001b[0;32m~/anaconda3/lib/python3.7/site-packages/tensorflow/python/keras/engine/training_arrays.py\u001b[0m in \u001b[0;36mmodel_iteration\u001b[0;34m(model, inputs, targets, sample_weights, batch_size, epochs, verbose, callbacks, val_inputs, val_targets, val_sample_weights, shuffle, initial_epoch, steps_per_epoch, validation_steps, validation_freq, mode, validation_in_fit, prepared_feed_values_from_dataset, steps_name, **kwargs)\u001b[0m\n\u001b[1;32m    361\u001b[0m \u001b[0;34m\u001b[0m\u001b[0m\n\u001b[1;32m    362\u001b[0m         \u001b[0;31m# Get outputs.\u001b[0m\u001b[0;34m\u001b[0m\u001b[0;34m\u001b[0m\u001b[0;34m\u001b[0m\u001b[0m\n\u001b[0;32m--> 363\u001b[0;31m         \u001b[0mbatch_outs\u001b[0m \u001b[0;34m=\u001b[0m \u001b[0mf\u001b[0m\u001b[0;34m(\u001b[0m\u001b[0mins_batch\u001b[0m\u001b[0;34m)\u001b[0m\u001b[0;34m\u001b[0m\u001b[0;34m\u001b[0m\u001b[0m\n\u001b[0m\u001b[1;32m    364\u001b[0m         \u001b[0;32mif\u001b[0m \u001b[0;32mnot\u001b[0m \u001b[0misinstance\u001b[0m\u001b[0;34m(\u001b[0m\u001b[0mbatch_outs\u001b[0m\u001b[0;34m,\u001b[0m \u001b[0mlist\u001b[0m\u001b[0;34m)\u001b[0m\u001b[0;34m:\u001b[0m\u001b[0;34m\u001b[0m\u001b[0;34m\u001b[0m\u001b[0m\n\u001b[1;32m    365\u001b[0m           \u001b[0mbatch_outs\u001b[0m \u001b[0;34m=\u001b[0m \u001b[0;34m[\u001b[0m\u001b[0mbatch_outs\u001b[0m\u001b[0;34m]\u001b[0m\u001b[0;34m\u001b[0m\u001b[0;34m\u001b[0m\u001b[0m\n",
      "\u001b[0;32m~/anaconda3/lib/python3.7/site-packages/tensorflow/python/keras/backend.py\u001b[0m in \u001b[0;36m__call__\u001b[0;34m(self, inputs)\u001b[0m\n\u001b[1;32m   3290\u001b[0m \u001b[0;34m\u001b[0m\u001b[0m\n\u001b[1;32m   3291\u001b[0m     fetched = self._callable_fn(*array_vals,\n\u001b[0;32m-> 3292\u001b[0;31m                                 run_metadata=self.run_metadata)\n\u001b[0m\u001b[1;32m   3293\u001b[0m     \u001b[0mself\u001b[0m\u001b[0;34m.\u001b[0m\u001b[0m_call_fetch_callbacks\u001b[0m\u001b[0;34m(\u001b[0m\u001b[0mfetched\u001b[0m\u001b[0;34m[\u001b[0m\u001b[0;34m-\u001b[0m\u001b[0mlen\u001b[0m\u001b[0;34m(\u001b[0m\u001b[0mself\u001b[0m\u001b[0;34m.\u001b[0m\u001b[0m_fetches\u001b[0m\u001b[0;34m)\u001b[0m\u001b[0;34m:\u001b[0m\u001b[0;34m]\u001b[0m\u001b[0;34m)\u001b[0m\u001b[0;34m\u001b[0m\u001b[0;34m\u001b[0m\u001b[0m\n\u001b[1;32m   3294\u001b[0m     output_structure = nest.pack_sequence_as(\n",
      "\u001b[0;32m~/anaconda3/lib/python3.7/site-packages/tensorflow/python/client/session.py\u001b[0m in \u001b[0;36m__call__\u001b[0;34m(self, *args, **kwargs)\u001b[0m\n\u001b[1;32m   1456\u001b[0m         ret = tf_session.TF_SessionRunCallable(self._session._session,\n\u001b[1;32m   1457\u001b[0m                                                \u001b[0mself\u001b[0m\u001b[0;34m.\u001b[0m\u001b[0m_handle\u001b[0m\u001b[0;34m,\u001b[0m \u001b[0margs\u001b[0m\u001b[0;34m,\u001b[0m\u001b[0;34m\u001b[0m\u001b[0;34m\u001b[0m\u001b[0m\n\u001b[0;32m-> 1458\u001b[0;31m                                                run_metadata_ptr)\n\u001b[0m\u001b[1;32m   1459\u001b[0m         \u001b[0;32mif\u001b[0m \u001b[0mrun_metadata\u001b[0m\u001b[0;34m:\u001b[0m\u001b[0;34m\u001b[0m\u001b[0;34m\u001b[0m\u001b[0m\n\u001b[1;32m   1460\u001b[0m           \u001b[0mproto_data\u001b[0m \u001b[0;34m=\u001b[0m \u001b[0mtf_session\u001b[0m\u001b[0;34m.\u001b[0m\u001b[0mTF_GetBuffer\u001b[0m\u001b[0;34m(\u001b[0m\u001b[0mrun_metadata_ptr\u001b[0m\u001b[0;34m)\u001b[0m\u001b[0;34m\u001b[0m\u001b[0;34m\u001b[0m\u001b[0m\n",
      "\u001b[0;31mKeyboardInterrupt\u001b[0m: "
     ]
    }
   ],
   "source": [
    "custommodel.fit(\n",
    "    train_data['x'],\n",
    "    train_data['y_cat'],\n",
    "    batch_size=128,\n",
    "    epochs=10)"
   ]
  },
  {
   "cell_type": "code",
   "execution_count": 13,
   "metadata": {},
   "outputs": [
    {
     "name": "stdout",
     "output_type": "stream",
     "text": [
      "2000/2000 [==============================] - 0s 200us/sample - loss: 0.9159 - acc: 0.8460\n"
     ]
    },
    {
     "data": {
      "text/plain": [
       "[0.9159331638813019, 0.846]"
      ]
     },
     "execution_count": 13,
     "metadata": {},
     "output_type": "execute_result"
    }
   ],
   "source": [
    "custommodel.evaluate(val_data['x'],val_data['y_cat'])"
   ]
  },
  {
   "cell_type": "code",
   "execution_count": null,
   "metadata": {},
   "outputs": [],
   "source": []
  }
 ],
 "metadata": {
  "kernelspec": {
   "display_name": "Python 3",
   "language": "python",
   "name": "python3"
  },
  "language_info": {
   "codemirror_mode": {
    "name": "ipython",
    "version": 3
   },
   "file_extension": ".py",
   "mimetype": "text/x-python",
   "name": "python",
   "nbconvert_exporter": "python",
   "pygments_lexer": "ipython3",
   "version": "3.7.3"
  }
 },
 "nbformat": 4,
 "nbformat_minor": 2
}
