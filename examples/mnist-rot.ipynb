{
 "cells": [
  {
   "cell_type": "code",
   "execution_count": 1,
   "metadata": {},
   "outputs": [
    {
     "name": "stdout",
     "output_type": "stream",
     "text": [
      "/home/rasmusj/code\n"
     ]
    }
   ],
   "source": [
    "%cd ../.."
   ]
  },
  {
   "cell_type": "code",
   "execution_count": 2,
   "metadata": {},
   "outputs": [],
   "source": [
    "import sys\n",
    "import random\n",
    "\n",
    "import numpy as np\n",
    "import tensorflow as tf\n",
    "import tensorflow.keras as keras\n",
    "import matplotlib.pyplot as plt\n",
    "import matplotlib\n",
    "import tensorflow.train\n",
    "from tensorflow.keras import layers\n",
    "from gconvnet import GConv2D"
   ]
  },
  {
   "cell_type": "code",
   "execution_count": 3,
   "metadata": {},
   "outputs": [
    {
     "name": "stdout",
     "output_type": "stream",
     "text": [
      "Tensorflow version: 1.14.0\n",
      "Keras      version: 2.2.4-tf\n",
      "Numpy version:      1.16.4\n",
      "Matplotlib version: 3.1.0\n",
      "Python version:     3.7.3 (default, Mar 27 2019, 22:11:17) \n",
      "[GCC 7.3.0]\n"
     ]
    }
   ],
   "source": [
    "print('Tensorflow version: {}'.format(tf.__version__))\n",
    "print('Keras      version: {}'.format(tf.keras.__version__))\n",
    "print('Numpy version:      {}'.format(np.__version__))\n",
    "print('Matplotlib version: {}'.format(matplotlib.__version__))\n",
    "print('Python version:     {}'.format(sys.version))"
   ]
  },
  {
   "cell_type": "markdown",
   "metadata": {},
   "source": [
    "We now load the MNIST data. It is organized as follows:\n",
    "* Each samples is represented as 785 scalars. The first 24*24=784 are the pixel values. The last is the label.\n",
    "* mnist_train.amat contains 12,000 samples. The first 10,000 are training samples, the last 2000 are validation samples.\n",
    "* mnist_test.amat contains 50,000 test samples."
   ]
  },
  {
   "cell_type": "code",
   "execution_count": 4,
   "metadata": {},
   "outputs": [],
   "source": [
    "train_n = 10000 \n",
    "val_n = 2000\n",
    "test_n = 50000\n",
    "sample_width = 28\n",
    "sample_height = 28"
   ]
  },
  {
   "cell_type": "code",
   "execution_count": 5,
   "metadata": {},
   "outputs": [],
   "source": [
    "raw_train_val_data = np.loadtxt('gconvnet/examples/mnist_all_rotation_normalized_float_train_valid.amat')\n",
    "raw_test_data = np.loadtxt('gconvnet/examples/mnist_all_rotation_normalized_float_test.amat')"
   ]
  },
  {
   "cell_type": "code",
   "execution_count": 6,
   "metadata": {},
   "outputs": [],
   "source": [
    "assert raw_train_val_data.shape[0] == train_n + val_n, \\\n",
    "       'mnist_train.amat had unexpected number of samples'\n",
    "assert raw_test_data.shape[0] == test_n, \\\n",
    "       'mnist_test.amat had unexpected number of samples'\n",
    "\n",
    "assert raw_train_val_data.shape[1] == sample_width*sample_height + 1, \\\n",
    "    \"mnist_train.amat samples have wrong size, expected {0} got {1}\".format(\n",
    "           sample_width*sample_height+1, raw_train_val_data.shape[1])\n",
    "assert raw_test_data.shape[1] == sample_width*sample_height + 1, \\\n",
    "    \"mnist_test.amat samples have wrong size, expected {0} got {1}\".format(\n",
    "           sample_width*sample_height+1, raw_test_data.shape[1])\n",
    "\n",
    "train_x = raw_train_val_data[:train_n,:-1].reshape(train_n,sample_width,sample_height,1,1)\n",
    "train_y = raw_train_val_data[:train_n,-1]\n",
    "\n",
    "val_x = raw_train_val_data[train_n:,:-1].reshape(val_n,sample_width,sample_height,1,1)\n",
    "val_y = raw_train_val_data[train_n:,-1]\n",
    "\n",
    "test_x = raw_test_data[:,:-1].reshape(test_n,sample_width,sample_height,1,1)\n",
    "test_y = raw_test_data[:,-1]\n",
    "\n",
    "train_data = {\n",
    "    'x' : train_x,\n",
    "    'y' : train_y,\n",
    "    'y_cat' : tf.keras.utils.to_categorical(train_y,10),\n",
    "    'name' : 'train',\n",
    "    'n' : train_n}\n",
    "test_data = {\n",
    "    'x' : test_x,\n",
    "    'y' : test_y,\n",
    "    'y_cat' : tf.keras.utils.to_categorical(test_y,10),\n",
    "    'name' : 'test',\n",
    "    'n' : test_n}\n",
    "val_data = {\n",
    "    'x' : val_x,\n",
    "    'y' : val_y,\n",
    "    'y_cat' : tf.keras.utils.to_categorical(val_y,10),\n",
    "    'name' : 'validation',\n",
    "    'n' : val_n}"
   ]
  },
  {
   "cell_type": "markdown",
   "metadata": {},
   "source": [
    "# Inspection"
   ]
  },
  {
   "cell_type": "code",
   "execution_count": 7,
   "metadata": {},
   "outputs": [
    {
     "name": "stdout",
     "output_type": "stream",
     "text": [
      "Train dataset sample #6611 with label: 3.0\n"
     ]
    },
    {
     "data": {
      "image/png": "[encoded data removed]",
      "text/plain": [
       "<Figure size 432x288 with 1 Axes>"
      ]
     },
     "metadata": {
      "needs_background": "light"
     },
     "output_type": "display_data"
    }
   ],
   "source": [
    "dataset_to_inspect = train_data\n",
    "example_idx = -1 # index of sample to inspect. -1 for random.\n",
    "\n",
    "if example_idx == -1:\n",
    "    example_idx = random.randint(0,dataset_to_inspect['n']-1)\n",
    "\n",
    "assert (example_idx >= 0 and example_idx < dataset_to_inspect['n']-1), \\\n",
    "    'Example index out of bounds'\n",
    "\n",
    "example_x = dataset_to_inspect['x'][example_idx].reshape(sample_width,sample_height)\n",
    "example_y = dataset_to_inspect['y'][example_idx]\n",
    "\n",
    "plt.imshow(example_x)\n",
    "\n",
    "print('{0} dataset sample #{1} with label: {2}'.format(\n",
    "    dataset_to_inspect['name'].capitalize(), example_idx, example_y))"
   ]
  },
  {
   "cell_type": "markdown",
   "metadata": {},
   "source": [
    "# Model"
   ]
  },
  {
   "cell_type": "code",
   "execution_count": 32,
   "metadata": {
    "scrolled": true
   },
   "outputs": [
    {
     "name": "stdout",
     "output_type": "stream",
     "text": [
      "-1 1 1\n",
      "-1 1 1\n",
      "Applying GConv1\n",
      "Input shape: (?, 28, 28, 1, 1)\n",
      "Filtershape: (3, 3, 1, 1, 4, 30)\n",
      "Output shape: (?, 26, 26, 120)\n",
      "Output shape: (?, 26, 26, 4, 30)\n",
      "-1 1 1\n",
      "-1 1 1\n",
      "Applying GConv2\n",
      "Input shape: (?, 26, 26, 4, 30)\n",
      "Filtershape: (3, 3, 4, 30, 4, 30)\n",
      "Output shape: (?, 24, 24, 120)\n",
      "Output shape: (?, 24, 24, 4, 30)\n",
      "-1 1 1\n",
      "-1 1 1\n",
      "Applying GConv3\n",
      "Input shape: (?, 24, 24, 4, 30)\n",
      "Filtershape: (3, 3, 4, 30, 4, 30)\n",
      "Output shape: (?, 22, 22, 120)\n",
      "Output shape: (?, 22, 22, 4, 30)\n",
      "-1 1 1\n",
      "-1 1 1\n",
      "Applying GConv4\n",
      "Input shape: (?, 22, 22, 4, 30)\n",
      "Filtershape: (3, 3, 4, 30, 4, 30)\n",
      "Output shape: (?, 20, 20, 120)\n",
      "Output shape: (?, 20, 20, 4, 30)\n"
     ]
    }
   ],
   "source": [
    "custommodel = keras.Sequential()\n",
    "custommodel.add(GConv2D(30, \n",
    "                        kernel_size=(3,3),\n",
    "                        input_shape=(28,28,1,1),\n",
    "                        G = 'c4',\n",
    "                        G_action = 'rot90',\n",
    "                        activation='relu',\n",
    "                        use_bias = False,\n",
    "                        name='GConv1'))\n",
    "custommodel.add(GConv2D(30,\n",
    "                       kernel_size=(3,3),\n",
    "                       G='c4',\n",
    "                       G_action = 'rot90',\n",
    "                       activation='relu',\n",
    "                       use_bias=False,\n",
    "                       name='GConv2'))\n",
    "custommodel.add(GConv2D(30,\n",
    "                       kernel_size=(3,3),\n",
    "                       G='c4',\n",
    "                       G_action = 'rot90',\n",
    "                       activation='relu',\n",
    "                       use_bias=False,\n",
    "                       name='GConv3'))\n",
    "custommodel.add(GConv2D(30,\n",
    "                       kernel_size=(3,3),\n",
    "                       G='c4',\n",
    "                       G_action = 'rot90',\n",
    "                       activation='relu',\n",
    "                       use_bias=False,\n",
    "                       name='GConv4'))\n",
    "custommodel.add(layers.Flatten())\n",
    "custommodel.add(layers.Dense(10, activation='softmax'))"
   ]
  },
  {
   "cell_type": "code",
   "execution_count": 9,
   "metadata": {},
   "outputs": [
    {
     "name": "stdout",
     "output_type": "stream",
     "text": [
      "Model: \"sequential\"\n",
      "_________________________________________________________________\n",
      "Layer (type)                 Output Shape              Param #   \n",
      "=================================================================\n",
      "GConv1 (GConv2D)             (None, 26, 26, 4, 30)     270       \n",
      "_________________________________________________________________\n",
      "flatten (Flatten)            (None, 81120)             0         \n",
      "_________________________________________________________________\n",
      "dense (Dense)                (None, 10)                811210    \n",
      "=================================================================\n",
      "Total params: 811,480\n",
      "Trainable params: 811,480\n",
      "Non-trainable params: 0\n",
      "_________________________________________________________________\n"
     ]
    }
   ],
   "source": [
    "custommodel.summary()"
   ]
  },
  {
   "cell_type": "code",
   "execution_count": 33,
   "metadata": {},
   "outputs": [],
   "source": [
    "custommodel.compile(\n",
    "    optimizer=tf.train.AdamOptimizer(),\n",
    "    loss='categorical_crossentropy',\n",
    "    metrics=['accuracy'])"
   ]
  },
  {
   "cell_type": "code",
   "execution_count": 34,
   "metadata": {},
   "outputs": [
    {
     "name": "stdout",
     "output_type": "stream",
     "text": [
      "Epoch 1/25\n",
      "10000/10000 [==============================] - 4s 436us/sample - loss: 1.0854 - acc: 0.6339\n",
      "Epoch 2/25\n",
      "10000/10000 [==============================] - 4s 387us/sample - loss: 0.4753 - acc: 0.8522\n",
      "Epoch 3/25\n",
      "10000/10000 [==============================] - 4s 390us/sample - loss: 0.2843 - acc: 0.9097\n",
      "Epoch 4/25\n",
      "10000/10000 [==============================] - 4s 390us/sample - loss: 0.1596 - acc: 0.9483\n",
      "Epoch 5/25\n",
      "10000/10000 [==============================] - 4s 390us/sample - loss: 0.0869 - acc: 0.9687\n",
      "Epoch 6/25\n",
      "10000/10000 [==============================] - 4s 390us/sample - loss: 0.0599 - acc: 0.9789\n",
      "Epoch 7/25\n",
      "10000/10000 [==============================] - 4s 391us/sample - loss: 0.0275 - acc: 0.9906\n",
      "Epoch 8/25\n",
      "10000/10000 [==============================] - 4s 392us/sample - loss: 0.0359 - acc: 0.9868\n",
      "Epoch 9/25\n",
      "10000/10000 [==============================] - 4s 405us/sample - loss: 0.0250 - acc: 0.9906\n",
      "Epoch 10/25\n",
      "10000/10000 [==============================] - 4s 401us/sample - loss: 0.0193 - acc: 0.9927\n",
      "Epoch 11/25\n",
      "10000/10000 [==============================] - 4s 412us/sample - loss: 0.0130 - acc: 0.9958\n",
      "Epoch 12/25\n",
      "10000/10000 [==============================] - 4s 409us/sample - loss: 0.0225 - acc: 0.9914\n",
      "Epoch 13/25\n",
      "10000/10000 [==============================] - 4s 407us/sample - loss: 0.0161 - acc: 0.9942\n",
      "Epoch 14/25\n",
      "10000/10000 [==============================] - 4s 407us/sample - loss: 0.0050 - acc: 0.9984\n",
      "Epoch 15/25\n",
      "10000/10000 [==============================] - 4s 407us/sample - loss: 0.0103 - acc: 0.9970\n",
      "Epoch 16/25\n",
      "10000/10000 [==============================] - 4s 407us/sample - loss: 0.0047 - acc: 0.9983\n",
      "Epoch 17/25\n",
      "10000/10000 [==============================] - 4s 408us/sample - loss: 0.0030 - acc: 0.9988\n",
      "Epoch 18/25\n",
      "10000/10000 [==============================] - 4s 408us/sample - loss: 0.0174 - acc: 0.9949\n",
      "Epoch 19/25\n",
      "10000/10000 [==============================] - 4s 407us/sample - loss: 0.0249 - acc: 0.9919\n",
      "Epoch 20/25\n",
      "10000/10000 [==============================] - 4s 415us/sample - loss: 0.0108 - acc: 0.9965\n",
      "Epoch 21/25\n",
      "10000/10000 [==============================] - 4s 417us/sample - loss: 0.0067 - acc: 0.9977\n",
      "Epoch 22/25\n",
      "10000/10000 [==============================] - 4s 413us/sample - loss: 0.0070 - acc: 0.9981\n",
      "Epoch 23/25\n",
      "10000/10000 [==============================] - 4s 411us/sample - loss: 0.0057 - acc: 0.9979\n",
      "Epoch 24/25\n",
      "10000/10000 [==============================] - 4s 418us/sample - loss: 0.0074 - acc: 0.9976\n",
      "Epoch 25/25\n",
      "10000/10000 [==============================] - 4s 417us/sample - loss: 0.0275 - acc: 0.9912\n"
     ]
    },
    {
     "data": {
      "text/plain": [
       "<tensorflow.python.keras.callbacks.History at 0x7f1b27dcc550>"
      ]
     },
     "execution_count": 34,
     "metadata": {},
     "output_type": "execute_result"
    }
   ],
   "source": [
    "custommodel.fit(\n",
    "    train_data['x'],\n",
    "    train_data['y_cat'],\n",
    "    batch_size=128,\n",
    "    epochs=10)"
   ]
  },
  {
   "cell_type": "code",
   "execution_count": 35,
   "metadata": {},
   "outputs": [
    {
     "name": "stdout",
     "output_type": "stream",
     "text": [
      "2000/2000 [==============================] - 1s 253us/sample - loss: 0.8521 - acc: 0.8930\n"
     ]
    },
    {
     "data": {
      "text/plain": [
       "[0.8521332949176431, 0.893]"
      ]
     },
     "execution_count": 35,
     "metadata": {},
     "output_type": "execute_result"
    }
   ],
   "source": [
    "custommodel.evaluate(val_data['x'],val_data['y_cat'])"
   ]
  }
 ],
 "metadata": {
  "kernelspec": {
   "display_name": "Python 3",
   "language": "python",
   "name": "python3"
  },
  "language_info": {
   "codemirror_mode": {
    "name": "ipython",
    "version": 3
   },
   "file_extension": ".py",
   "mimetype": "text/x-python",
   "name": "python",
   "nbconvert_exporter": "python",
   "pygments_lexer": "ipython3",
   "version": "3.7.3"
  }
 },
 "nbformat": 4,
 "nbformat_minor": 2
}
